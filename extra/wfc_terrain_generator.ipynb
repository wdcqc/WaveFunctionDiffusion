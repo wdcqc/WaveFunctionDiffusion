{
 "cells": [
  {
   "cell_type": "markdown",
   "id": "f18441a6",
   "metadata": {},
   "source": [
    "## WaveFunctionCollapse generation demo\n",
    "\n",
    "#### NOTE: please move this notebook to the root folder (so it can import `wfd.scmap`)"
   ]
  },
  {
   "cell_type": "code",
   "execution_count": null,
   "id": "5c2c8047",
   "metadata": {},
   "outputs": [],
   "source": [
    "from wfd.scmap import randomize_subtiles, get_cv5_data, process_input_maps, get_shrink_mapping\n",
    "from wfd.scmap import get_default_output_map_data, replace_tile_data\n",
    "\n",
    "# input maps (must be same tileset)\n",
    "# these are blizzard maps, you can find them in starcraft remastered install folder\n",
    "maps = [\n",
    "    \"train_data/maps/platform/(2)Bottleneck.scm\",\n",
    "    \"train_data/maps/platform/(2)Boxer.scm\",\n",
    "    \"train_data/maps/platform/(2)Space Madness.scm\",\n",
    "    \"train_data/maps/platform/(4)Blood Bath.scm\",\n",
    "    \"train_data/maps/platform/(4)Nightmare Station.scm\",\n",
    "    \"train_data/maps/platform/(4)Orbital Relay.scm\",\n",
    "    \"train_data/maps/platform/(4)Tarsonis Orbital.scm\",\n",
    "    \"train_data/maps/platform/(6)Ground Zero.scm\",\n",
    "    \"train_data/maps/platform/(6)New Gettysburg.scm\",\n",
    "    \"train_data/maps/platform/(8)Bridge to Bridge '98.scm\",\n",
    "    \"train_data/maps/platform/(8)Orbital Death.scm\",\n",
    "    \"train_data/maps/platform/(8)Station Unrest.scm\",\n",
    "]\n",
    "\n",
    "# merging subtiles performs better on natural maps\n",
    "# may hit problems on blended terrains if they use specific subtiles.\n",
    "merge_subtiles = True\n",
    "\n",
    "tileset, sc_to_gen, gen_to_sc, \\\n",
    "tile_count, conn_probs, freqs = process_input_maps(maps, merge_subtiles = merge_subtiles)"
   ]
  },
  {
   "cell_type": "code",
   "execution_count": null,
   "id": "d65372df",
   "metadata": {},
   "outputs": [],
   "source": [
    "# map tile numbers to a smaller scale to speed up generation\n",
    "gen_to_shrinked, shrinked_to_gen, shrinked_count = get_shrink_mapping(freqs, is_freq_table = True)\n",
    "conn_probs_shrinked = conn_probs[shrinked_to_gen, :, :][:, :, shrinked_to_gen]\n",
    "freqs_shrinked = freqs[shrinked_to_gen]"
   ]
  },
  {
   "cell_type": "code",
   "execution_count": null,
   "id": "7e06fa3c",
   "metadata": {},
   "outputs": [],
   "source": [
    "import numpy as np\n",
    "cv5_data = get_cv5_data(tileset)\n",
    "\n",
    "# customize probability using cv5 data\n",
    "tile_weights = np.zeros((len(cv5_data),))\n",
    "walkable = [d[\"all_walkable\"] for d in cv5_data]\n",
    "buildable = [d[\"buildable\"] for d in cv5_data]\n",
    "is_null = [d[\"null\"] for d in cv5_data]\n",
    "\n",
    "# define weights for different type of tiles\n",
    "tile_weights[:] = 32\n",
    "tile_weights[walkable] = 32\n",
    "tile_weights[buildable] = 256\n",
    "tile_weights[is_null] = 1\n",
    "\n",
    "gen_probs = tile_weights[gen_to_sc]\n",
    "tile_probs = gen_probs[shrinked_to_gen]\n",
    "tile_probs /= np.sum(tile_probs)"
   ]
  },
  {
   "cell_type": "code",
   "execution_count": null,
   "id": "534d3609",
   "metadata": {},
   "outputs": [],
   "source": [
    "grass_tile = gen_to_shrinked[sc_to_gen[[8 * 16, 9 * 16]]]\n",
    "land_tile = gen_to_shrinked[sc_to_gen[[2 * 16, 3 * 16]]]\n",
    "highland_tile = gen_to_shrinked[sc_to_gen[[8 * 16, 9 * 16]]]\n",
    "\n",
    "# the following commented-out code is a sample to precondition part of the map to be buildable\n",
    "\n",
    "# buildable_tiles = np.unique(gen_to_shrinked[sc_to_gen[buildable]])[1:] # need to remove null tile (0)\n",
    "\n",
    "# def conv(*val):\n",
    "#     # coordinates to grids\n",
    "#     return tuple(v//32 for v in val)\n",
    "\n",
    "# def init_gen(generator):\n",
    "#     # set all main mineral areas to buildable tiles only\n",
    "#     generator.set_possible_states(buildable_tiles, region = conv(96, 32, 672, 480))\n",
    "#     generator.set_possible_states(buildable_tiles, region = conv(2048, 64, 2656, 480))\n",
    "#     generator.set_possible_states(buildable_tiles, region = conv(3392, 96, 4000, 512))\n",
    "#     generator.set_possible_states(buildable_tiles, region = conv(3360, 2400, 3968, 2816))\n",
    "#     generator.set_possible_states(buildable_tiles, region = conv(3392, 3552, 4000, 3968))\n",
    "#     generator.set_possible_states(buildable_tiles, region = conv(1760, 3584, 2368, 4000))\n",
    "#     generator.set_possible_states(buildable_tiles, region = conv(128, 3488, 704, 3936))\n",
    "#     generator.set_possible_states(buildable_tiles, region = conv(64, 1344, 640, 1792))\n",
    "#     generator.set_possible_states(buildable_tiles, region = conv(1728, 1952, 2304, 2400))\n",
    "#     generator.process_initial_states(depth = 2)"
   ]
  },
  {
   "cell_type": "code",
   "execution_count": null,
   "id": "e352f946",
   "metadata": {
    "scrolled": true
   },
   "outputs": [],
   "source": [
    "from wfd.wfc import WFCGenerator\n",
    "\n",
    "size = (64, 64)                                       # size of generated map, can differ from input\n",
    "generator = WFCGenerator(size,\n",
    "                         conn_probs_shrinked,\n",
    "                         tile_probs = tile_probs,     # tile_probs = freqs_shrinked to match input frequencies\n",
    "                         use_uniform_probs = False,   # bypasses all probs calculation, might be faster\n",
    "                         use_border_probs = False)    # it is a bad idea\n",
    "\n",
    "# init_gen(generator)\n",
    "# generator.set_possible_states(land_tile, region = (0, 0, 192, 4))\n",
    "# generator.process_initial_states(depth = 2)\n",
    "\n",
    "# try messing with these parameters if the algorithm fails to generate the map or takes forever\n",
    "\n",
    "# lambda retries: (max_iterations, max_wait_after_stalls)\n",
    "param_scheduler = lambda retries: (500 + 500 * min(10, retries), 200 + 200 * min(10, retries))\n",
    "generator.generate_by_part(split_size = 16,         \n",
    "                           generate_size = 17,      # should be atleast same as split_size\n",
    "                           max_retries = 20,\n",
    "                           param_scheduler = param_scheduler,\n",
    "                           info_depth = 15,         # lower makes it faster but may fail on difficult input\n",
    "                           do_double_check = 10,    # give it a number to skip double check after X retries\n",
    "                           loosen_restrict = 5,     # loosen restrictions\n",
    "                           verbose_level = 1,       # how much log it displays\n",
    "                           verbose_after_retries = 30)"
   ]
  },
  {
   "cell_type": "code",
   "execution_count": null,
   "id": "8df720ec",
   "metadata": {},
   "outputs": [],
   "source": [
    "# map generated terrain back to sc values\n",
    "result_shrinked = generator.get_result()\n",
    "result_gen = shrinked_to_gen[result_shrinked]\n",
    "tile_results = gen_to_sc[result_gen]\n",
    "\n",
    "# randomize subtiles\n",
    "if merge_subtiles:\n",
    "    randomize_subtiles(tile_results, tileset, cv5_data = cv5_data)"
   ]
  },
  {
   "cell_type": "code",
   "execution_count": null,
   "id": "1a85ac60",
   "metadata": {},
   "outputs": [],
   "source": [
    "import time\n",
    "\n",
    "# save generated chk\n",
    "new_map_data = get_default_output_map_data()\n",
    "chk_mtxm_data = tile_results.flatten().tolist()\n",
    "dim, output_data = replace_tile_data(new_map_data, tileset, size, chk_mtxm_data)\n",
    "with open(\"maps/generated_{}_{:04d}.chk\".format(time.strftime(\"%Y%m%d_%H%M%S\"), np.random.randint(1e4)), \"wb\") as fp:\n",
    "    fp.write(output_data)"
   ]
  },
  {
   "cell_type": "code",
   "execution_count": null,
   "id": "5158084c",
   "metadata": {},
   "outputs": [],
   "source": [
    "from wfd.scmap import show_map, get_jpg\n",
    "from IPython.display import display, Image as ImageIPD\n",
    "show_map(tile_results, tileset, display_handler = lambda img: display(ImageIPD(data=get_jpg(img))))"
   ]
  }
 ],
 "metadata": {
  "kernelspec": {
   "display_name": "Python 3 (ipykernel)",
   "language": "python",
   "name": "python3"
  },
  "language_info": {
   "codemirror_mode": {
    "name": "ipython",
    "version": 3
   },
   "file_extension": ".py",
   "mimetype": "text/x-python",
   "name": "python",
   "nbconvert_exporter": "python",
   "pygments_lexer": "ipython3",
   "version": "3.9.7"
  }
 },
 "nbformat": 4,
 "nbformat_minor": 5
}
