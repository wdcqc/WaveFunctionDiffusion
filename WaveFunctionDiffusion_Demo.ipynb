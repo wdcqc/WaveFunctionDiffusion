{
  "nbformat": 4,
  "nbformat_minor": 0,
  "metadata": {
    "colab": {
      "provenance": []
    },
    "kernelspec": {
      "name": "python3",
      "display_name": "Python 3"
    },
    "language_info": {
      "name": "python"
    },
    "accelerator": "GPU",
    "gpuClass": "standard"
  },
  "cells": [
    {
      "cell_type": "markdown",
      "source": [
        "### 1. Clone repository and install dependencies"
      ],
      "metadata": {
        "id": "mpqWrklxCw7f"
      }
    },
    {
      "cell_type": "code",
      "execution_count": null,
      "metadata": {
        "id": "43DY1rGVfpVy"
      },
      "outputs": [],
      "source": [
        "!git clone -q https://github.com/wdcqc/WaveFunctionDiffusion.git\n",
        "%cd WaveFunctionDiffusion\n",
        "%pip install -qq -r requirements.txt"
      ]
    },
    {
      "cell_type": "markdown",
      "source": [
        "### 2. Run the demo"
      ],
      "metadata": {
        "id": "y8Vd5og0C1zf"
      }
    },
    {
      "cell_type": "code",
      "source": [
        "%run demo.py"
      ],
      "metadata": {
        "id": "hDbTiK1bgW-s"
      },
      "execution_count": null,
      "outputs": []
    }
  ]
}